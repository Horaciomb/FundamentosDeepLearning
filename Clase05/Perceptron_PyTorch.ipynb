{
  "nbformat": 4,
  "nbformat_minor": 0,
  "metadata": {
    "colab": {
      "provenance": []
    },
    "kernelspec": {
      "name": "python3",
      "display_name": "Python 3"
    },
    "language_info": {
      "name": "python"
    }
  },
  "cells": [
    {
      "cell_type": "markdown",
      "source": [
        "Importamos las librerias necesarias:"
      ],
      "metadata": {
        "id": "-5qKexDFpwkg"
      }
    },
    {
      "cell_type": "code",
      "source": [
        "import torch\n",
        "import torch.nn as nn\n",
        "import torch.optim as optim"
      ],
      "metadata": {
        "id": "8WqofDpmpvRR"
      },
      "execution_count": null,
      "outputs": []
    },
    {
      "cell_type": "markdown",
      "source": [
        "Creamos nuestro toy dataset:"
      ],
      "metadata": {
        "id": "AR-iKzElpzVU"
      }
    },
    {
      "cell_type": "code",
      "execution_count": null,
      "metadata": {
        "id": "3YSiAqMjpidS"
      },
      "outputs": [],
      "source": [
        "# X son las entradas, y son las etiquetas (0 o 1)\n",
        "X = torch.tensor([[1.0, 2.0], [2.0, 3.0],\n",
        "                  [3.0, 4.0], [4.0, 5.0]], requires_grad=True)\n",
        "y = torch.tensor([0.0, 0.0, 1.0, 1.0]).view(-1, 1)\n"
      ]
    },
    {
      "cell_type": "code",
      "source": [
        "model = nn.Sequential(\n",
        "    nn.Linear(2, 1),\n",
        "    nn.Sigmoid()\n",
        ")"
      ],
      "metadata": {
        "id": "bfE25VF2po5j"
      },
      "execution_count": null,
      "outputs": []
    },
    {
      "cell_type": "code",
      "source": [
        "# Definimos la función de pérdida y el optimizador\n",
        "criterion = nn.BCELoss()\n",
        "optimizer = optim.SGD(model.parameters(), lr=0.1)"
      ],
      "metadata": {
        "id": "PZoDbhYIprRz"
      },
      "execution_count": null,
      "outputs": []
    },
    {
      "cell_type": "code",
      "source": [
        "# Entrenamiento del modelo\n",
        "epochs = 5\n",
        "for epoch in range(epochs):\n",
        "\n",
        "    print(f'\\n--- Epoch {epoch + 1} ---')\n",
        "\n",
        "    for i, (data, target) in enumerate(zip(X, y)):\n",
        "        print(data, target)\n",
        "        # Forward pass\n",
        "        output = model(data)\n",
        "        # Calculamos la perdida con la función\n",
        "        loss = criterion(output, target)\n",
        "\n",
        "        print(f'Batch {i + 1}:')\n",
        "        print(f'  Antes del backward: Pesos {model[0].weight.data.numpy()}')\n",
        "\n",
        "        # Realizamos la Backward pass\n",
        "        loss.backward()\n",
        "\n",
        "        print(f'  Gradientes calculadas: {model[0].weight.grad.numpy()}')\n",
        "\n",
        "        # Actualizamos los pesos\n",
        "        optimizer.step()\n",
        "\n",
        "        print(f'  Después del step: Pesos actualizados {model[0].weight.data.numpy()}')\n",
        "\n",
        "        # Ponemos a cero los gradientes\n",
        "        optimizer.zero_grad()\n"
      ],
      "metadata": {
        "colab": {
          "base_uri": "https://localhost:8080/"
        },
        "id": "p1Tz2CMlpsxN",
        "outputId": "b0e4904d-5f83-4e32-f04e-fdb3c7cebd37"
      },
      "execution_count": null,
      "outputs": [
        {
          "output_type": "stream",
          "name": "stdout",
          "text": [
            "\n",
            "--- Epoch 1 ---\n",
            "tensor([1., 2.], grad_fn=<UnbindBackward0>) tensor([0.])\n",
            "Batch 1:\n",
            "  Antes del backward: Pesos [[0.2862864  0.52910346]]\n",
            "  Gradientes calculadas: [[0.8531886 1.7063771]]\n",
            "  Después del step: Pesos actualizados [[0.20096755 0.35846573]]\n",
            "tensor([2., 3.], grad_fn=<UnbindBackward0>) tensor([0.])\n",
            "Batch 2:\n",
            "  Antes del backward: Pesos [[0.20096755 0.35846573]]\n",
            "  Gradientes calculadas: [[1.7180831 2.5771246]]\n",
            "  Después del step: Pesos actualizados [[0.02915923 0.10075327]]\n",
            "tensor([3., 4.], grad_fn=<UnbindBackward0>) tensor([1.])\n",
            "Batch 3:\n",
            "  Antes del backward: Pesos [[0.02915923 0.10075327]]\n",
            "  Gradientes calculadas: [[-0.97255397 -1.2967386 ]]\n",
            "  Después del step: Pesos actualizados [[0.12641463 0.23042713]]\n",
            "tensor([4., 5.], grad_fn=<UnbindBackward0>) tensor([1.])\n",
            "Batch 4:\n",
            "  Antes del backward: Pesos [[0.12641463 0.23042713]]\n",
            "  Gradientes calculadas: [[-0.5050888 -0.631361 ]]\n",
            "  Después del step: Pesos actualizados [[0.17692351 0.29356325]]\n",
            "\n",
            "--- Epoch 2 ---\n",
            "tensor([1., 2.], grad_fn=<UnbindBackward0>) tensor([0.])\n",
            "Batch 1:\n",
            "  Antes del backward: Pesos [[0.17692351 0.29356325]]\n",
            "  Gradientes calculadas: [[0.7413911 1.4827822]]\n",
            "  Después del step: Pesos actualizados [[0.1027844  0.14528503]]\n",
            "tensor([2., 3.], grad_fn=<UnbindBackward0>) tensor([0.])\n",
            "Batch 2:\n",
            "  Antes del backward: Pesos [[0.1027844  0.14528503]]\n",
            "  Gradientes calculadas: [[1.4038353 2.105753 ]]\n",
            "  Después del step: Pesos actualizados [[-0.03759913 -0.06529027]]\n",
            "tensor([3., 4.], grad_fn=<UnbindBackward0>) tensor([1.])\n",
            "Batch 3:\n",
            "  Antes del backward: Pesos [[-0.03759913 -0.06529027]]\n",
            "  Gradientes calculadas: [[-1.6710978 -2.2281303]]\n",
            "  Después del step: Pesos actualizados [[0.12951066 0.15752277]]\n",
            "tensor([4., 5.], grad_fn=<UnbindBackward0>) tensor([1.])\n",
            "Batch 4:\n",
            "  Antes del backward: Pesos [[0.12951066 0.15752277]]\n",
            "  Gradientes calculadas: [[-0.72601604 -0.90752006]]\n",
            "  Después del step: Pesos actualizados [[0.20211226 0.24827477]]\n",
            "\n",
            "--- Epoch 3 ---\n",
            "tensor([1., 2.], grad_fn=<UnbindBackward0>) tensor([0.])\n",
            "Batch 1:\n",
            "  Antes del backward: Pesos [[0.20211226 0.24827477]]\n",
            "  Gradientes calculadas: [[0.714501 1.429002]]\n",
            "  Después del step: Pesos actualizados [[0.13066216 0.10537457]]\n",
            "tensor([2., 3.], grad_fn=<UnbindBackward0>) tensor([0.])\n",
            "Batch 2:\n",
            "  Antes del backward: Pesos [[0.13066216 0.10537457]]\n",
            "  Gradientes calculadas: [[1.3472745 2.0209117]]\n",
            "  Después del step: Pesos actualizados [[-0.0040653  -0.09671661]]\n",
            "tensor([3., 4.], grad_fn=<UnbindBackward0>) tensor([1.])\n",
            "Batch 3:\n",
            "  Antes del backward: Pesos [[-0.0040653  -0.09671661]]\n",
            "  Gradientes calculadas: [[-1.7373819 -2.3165092]]\n",
            "  Después del step: Pesos actualizados [[0.16967289 0.13493432]]\n",
            "tensor([4., 5.], grad_fn=<UnbindBackward0>) tensor([1.])\n",
            "Batch 4:\n",
            "  Antes del backward: Pesos [[0.16967289 0.13493432]]\n",
            "  Gradientes calculadas: [[-0.73499894 -0.9187487 ]]\n",
            "  Después del step: Pesos actualizados [[0.24317278 0.22680919]]\n",
            "\n",
            "--- Epoch 4 ---\n",
            "tensor([1., 2.], grad_fn=<UnbindBackward0>) tensor([0.])\n",
            "Batch 1:\n",
            "  Antes del backward: Pesos [[0.24317278 0.22680919]]\n",
            "  Gradientes calculadas: [[0.70118546 1.4023709 ]]\n",
            "  Después del step: Pesos actualizados [[0.17305423 0.0865721 ]]\n",
            "tensor([2., 3.], grad_fn=<UnbindBackward0>) tensor([0.])\n",
            "Batch 2:\n",
            "  Antes del backward: Pesos [[0.17305423 0.0865721 ]]\n",
            "  Gradientes calculadas: [[1.3327631 1.9991446]]\n",
            "  Después del step: Pesos actualizados [[ 0.03977792 -0.11334236]]\n",
            "tensor([3., 4.], grad_fn=<UnbindBackward0>) tensor([1.])\n",
            "Batch 3:\n",
            "  Antes del backward: Pesos [[ 0.03977792 -0.11334236]]\n",
            "  Gradientes calculadas: [[-1.7340481 -2.3120642]]\n",
            "  Después del step: Pesos actualizados [[0.21318273 0.11786406]]\n",
            "tensor([4., 5.], grad_fn=<UnbindBackward0>) tensor([1.])\n",
            "Batch 4:\n",
            "  Antes del backward: Pesos [[0.21318273 0.11786406]]\n",
            "  Gradientes calculadas: [[-0.71828526 -0.8978566 ]]\n",
            "  Después del step: Pesos actualizados [[0.28501126 0.20764972]]\n",
            "\n",
            "--- Epoch 5 ---\n",
            "tensor([1., 2.], grad_fn=<UnbindBackward0>) tensor([0.])\n",
            "Batch 1:\n",
            "  Antes del backward: Pesos [[0.28501126 0.20764972]]\n",
            "  Gradientes calculadas: [[0.6890048 1.3780096]]\n",
            "  Después del step: Pesos actualizados [[0.21611078 0.06984877]]\n",
            "tensor([2., 3.], grad_fn=<UnbindBackward0>) tensor([0.])\n",
            "Batch 2:\n",
            "  Antes del backward: Pesos [[0.21611078 0.06984877]]\n",
            "  Gradientes calculadas: [[1.3221228 1.9831842]]\n",
            "  Después del step: Pesos actualizados [[ 0.0838985  -0.12846966]]\n",
            "tensor([3., 4.], grad_fn=<UnbindBackward0>) tensor([1.])\n",
            "Batch 3:\n",
            "  Antes del backward: Pesos [[ 0.0838985  -0.12846966]]\n",
            "  Gradientes calculadas: [[-1.7248156 -2.2997541]]\n",
            "  Después del step: Pesos actualizados [[0.25638005 0.10150576]]\n",
            "tensor([4., 5.], grad_fn=<UnbindBackward0>) tensor([1.])\n",
            "Batch 4:\n",
            "  Antes del backward: Pesos [[0.25638005 0.10150576]]\n",
            "  Gradientes calculadas: [[-0.6999426  -0.87492824]]\n",
            "  Después del step: Pesos actualizados [[0.32637432 0.18899858]]\n"
          ]
        }
      ]
    },
    {
      "cell_type": "code",
      "source": [
        "\n",
        "# Predicción final después de entrenamiento\n",
        "with torch.no_grad():\n",
        "    predicted = model(X)\n",
        "    print(\"\\nPredicciones después del entrenamiento:\")\n",
        "    print(predicted)\n"
      ],
      "metadata": {
        "colab": {
          "base_uri": "https://localhost:8080/"
        },
        "id": "An9tMmgPpuDy",
        "outputId": "a4fe71a6-fe41-4614-f14a-e5fd676a9efd"
      },
      "execution_count": null,
      "outputs": [
        {
          "output_type": "stream",
          "name": "stdout",
          "text": [
            "\n",
            "Predicciones después del entrenamiento:\n",
            "tensor([[0.6769],\n",
            "        [0.7781],\n",
            "        [0.8545],\n",
            "        [0.9077]])\n"
          ]
        }
      ]
    },
    {
      "cell_type": "markdown",
      "source": [
        "Verificamos la actualización de pesos:\n",
        "\n",
        "\n",
        "![1_2wULsk4M4HG12bZ5cB-bPA.png](data:image/png;base64,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)"
      ],
      "metadata": {
        "id": "fB58X8eGrg0j"
      }
    },
    {
      "cell_type": "code",
      "source": [],
      "metadata": {
        "id": "iEe4xyeBrhCG"
      },
      "execution_count": null,
      "outputs": []
    }
  ]
}