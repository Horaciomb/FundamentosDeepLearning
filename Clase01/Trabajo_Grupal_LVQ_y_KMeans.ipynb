{
  "cells": [
    {
      "cell_type": "markdown",
      "metadata": {
        "id": "W0QETr6KS_rV"
      },
      "source": [
        "## **Instrucciones**\n",
        "* Antes de iniciar debe hacer una copia del notebook (Archivo > Guardar una copia en Drive)\n",
        "* Debe completar el codigo faltante donde se marca \"# TU CODIGO AQUI\". Al agregar el código borra \"# TU CODIGO AQUI\".\n",
        "* Una vez finalizada la tarea debe descargar el notebook (Archivo > Descargar > Descargar .ipynb) y enviar el archivo con los nombres de los integrantes del equipo a fernandosilva.clases@gmail.com hasta máximo el domingo 13 de Abril a horas 23:59 hora Bolivia.\n",
        "* Solo debe enviar la tarea un integrante del equipo.\n",
        "\n"
      ]
    },
    {
      "cell_type": "markdown",
      "metadata": {
        "id": "9nP3sBUkTD0Z"
      },
      "source": [
        "### Nombres integrantes:\n",
        "* José Gutierrez\n",
        "* Horacio Molina"
      ]
    },
    {
      "cell_type": "markdown",
      "metadata": {
        "id": "yrvK_fA_TA6N"
      },
      "source": [
        "\n",
        "\n",
        "---\n",
        "\n"
      ]
    },
    {
      "cell_type": "markdown",
      "metadata": {
        "id": "PdLeimbETh-V"
      },
      "source": [
        "## Descripción de la Tarea:\n",
        "\n",
        "En esta tarea, se busca comparar los algoritmos LQV (Learning Vector Quantization) y K-Means en términos de su capacidad para agrupar datos del conjunto de datos Breast Cancer. Este dataset es conocido por su uso en la clasificación de tumores como malignos o benignos, y contiene características relacionadas con las propiedades físicas de las células.\n",
        "\n",
        "\n",
        "## Objetivo:\n",
        "\n",
        "El objetivo principal de la tarea es analizar y comparar el rendimiento de LQV y K-Means al agrupar los datos del conjunto Breast Cancer, determinando cuál de los dos algoritmos es más efectivo para este problema."
      ]
    },
    {
      "cell_type": "markdown",
      "metadata": {
        "id": "Rg-tursZQZ6V"
      },
      "source": [
        "\n",
        "# PARTE A: LVQ aplicado al dataset Breast Cancer\n"
      ]
    },
    {
      "cell_type": "markdown",
      "metadata": {
        "id": "T2TOk38bOHsC"
      },
      "source": [
        "### 1. Importamos las librerias necesarias"
      ]
    },
    {
      "cell_type": "code",
      "execution_count": 3,
      "metadata": {
        "id": "YIoycelnOLkb"
      },
      "outputs": [],
      "source": [
        "import numpy as np\n",
        "from sklearn.datasets import load_breast_cancer\n",
        "import matplotlib.pyplot as plt\n",
        "from sklearn.preprocessing import StandardScaler\n"
      ]
    },
    {
      "cell_type": "markdown",
      "metadata": {
        "id": "8O_K4zl-PMLV"
      },
      "source": [
        "### 2. Cargamos el dataset Breast Cancer"
      ]
    },
    {
      "cell_type": "markdown",
      "metadata": {
        "id": "SRk6sL1-Uznn"
      },
      "source": [
        "Pista: https://scikit-learn.org/1.5/modules/generated/sklearn.datasets.load_breast_cancer.html"
      ]
    },
    {
      "cell_type": "code",
      "execution_count": 4,
      "metadata": {
        "id": "gIpIevcJPQdc"
      },
      "outputs": [],
      "source": [
        "cancer = load_breast_cancer()\n",
        "\n",
        "# Usamos las dos primeras características para visualización:\n",
        "data = cancer.data[:, :2]\n",
        "\n",
        "# Etiquetas de clase:\n",
        "labels = cancer.target\n",
        "\n",
        "# Número de clases:\n",
        "n_classes = len(np.unique(labels))\n"
      ]
    },
    {
      "cell_type": "markdown",
      "metadata": {
        "id": "JB_C00cyPYG8"
      },
      "source": [
        "### 3. Estandarizamos los datos para mejorar la convergencia"
      ]
    },
    {
      "cell_type": "markdown",
      "metadata": {
        "id": "6Qn7s5-gQpM0"
      },
      "source": [
        "Pista: https://scikit-learn.org/stable/modules/generated/sklearn.preprocessing.StandardScaler.html"
      ]
    },
    {
      "cell_type": "code",
      "execution_count": 5,
      "metadata": {
        "id": "3qW55xaqPbX3"
      },
      "outputs": [],
      "source": [
        "# Usamos StandardScaler\n",
        "scaler = StandardScaler()\n",
        "\n",
        "# Aplicamos el scaler en nuestra data\n",
        "data = scaler.fit_transform(data)\n"
      ]
    },
    {
      "cell_type": "markdown",
      "metadata": {
        "id": "dvvkJCCNPc22"
      },
      "source": [
        "### 4. Definimos parámetros iniciales"
      ]
    },
    {
      "cell_type": "code",
      "execution_count": 6,
      "metadata": {
        "id": "lo9qjCipPg4N"
      },
      "outputs": [],
      "source": [
        "learning_rate = 0.01\n",
        "n_iterations = 100\n"
      ]
    },
    {
      "cell_type": "markdown",
      "metadata": {
        "id": "dPSv0U-ePiiU"
      },
      "source": [
        "### 5. Inicializamos los prototipos"
      ]
    },
    {
      "cell_type": "code",
      "execution_count": 7,
      "metadata": {
        "id": "BVU8baKJPmvy"
      },
      "outputs": [],
      "source": [
        "prototypes = np.array([data[labels == i][np.random.choice(len(data[labels == i]))] for i in range(n_classes)])\n"
      ]
    },
    {
      "cell_type": "markdown",
      "metadata": {
        "id": "ol1yKVeDPn_s"
      },
      "source": [
        "### 6. Implementación LVQ en Numpy\n"
      ]
    },
    {
      "cell_type": "code",
      "execution_count": 8,
      "metadata": {
        "id": "yfEUgh3QPtds"
      },
      "outputs": [],
      "source": [
        "# Función de distancia euclidiana\n",
        "def euclidean_distance(a, b):\n",
        "    return np.sqrt(np.sum((a - b) ** 2))\n",
        "\n",
        "# Entrenamiento LVQ\n",
        "for iteration in range(n_iterations):\n",
        "    for i in range(len(data)):\n",
        "        x = data[i]\n",
        "        y = labels[i]\n",
        "        distances = np.array([euclidean_distance(x, prototype) for prototype in prototypes])\n",
        "        closest_prototype_idx = np.argmin(distances)\n",
        "        if closest_prototype_idx == y:\n",
        "            prototypes[closest_prototype_idx] += learning_rate * (x - prototypes[closest_prototype_idx])\n",
        "        else:\n",
        "            prototypes[closest_prototype_idx] -= learning_rate * (x - prototypes[closest_prototype_idx])\n",
        "\n",
        "# Clasificación y evaluación\n",
        "def classify(x, prototypes):\n",
        "    distances = np.array([euclidean_distance(x, prototype) for prototype in prototypes])\n",
        "    return np.argmin(distances)\n"
      ]
    },
    {
      "cell_type": "markdown",
      "metadata": {
        "id": "6odjYDP7Pzob"
      },
      "source": [
        "### 7. Predicción"
      ]
    },
    {
      "cell_type": "code",
      "execution_count": 9,
      "metadata": {
        "id": "nv8OdrHaP3nU"
      },
      "outputs": [
        {
          "name": "stdout",
          "output_type": "stream",
          "text": [
            "Precisión del modelo LVQ: 0.87\n"
          ]
        }
      ],
      "source": [
        "predictions = np.array([classify(x, prototypes) for x in data])\n",
        "accuracy = np.mean(predictions == labels)\n",
        "print(f\"Precisión del modelo LVQ: {accuracy:.2f}\")"
      ]
    },
    {
      "cell_type": "markdown",
      "metadata": {
        "id": "z2rFBwfYP5lK"
      },
      "source": [
        "### 8. Visualización"
      ]
    },
    {
      "cell_type": "code",
      "execution_count": 10,
      "metadata": {
        "id": "i_lFI4g5P8tc"
      },
      "outputs": [
        {
          "data": {
            "image/png": "[encoded data removed]",
            "text/plain": [
              "<Figure size 640x480 with 1 Axes>"
            ]
          },
          "metadata": {},
          "output_type": "display_data"
        }
      ],
      "source": [
        "colors = ['blue', 'red']\n",
        "for i in range(n_classes):\n",
        "    plt.scatter(data[labels == i, 0], data[labels == i, 1], color=colors[i], label=f'Clase {i+1}')\n",
        "plt.scatter(prototypes[:, 0], prototypes[:, 1], color='green', marker='x', s=100, label='Prototipos')\n",
        "plt.legend()\n",
        "plt.title(\"LVQ - Dataset Breast Cancer\")\n",
        "plt.xlabel(cancer.feature_names[0])\n",
        "plt.ylabel(cancer.feature_names[1])\n",
        "plt.show()"
      ]
    },
    {
      "cell_type": "markdown",
      "metadata": {
        "id": "gBUuQnylP_vx"
      },
      "source": [
        "\n",
        "\n",
        "---\n",
        "\n"
      ]
    },
    {
      "cell_type": "markdown",
      "metadata": {
        "id": "9J8HMWIAQh0r"
      },
      "source": [
        "# PARTE B: KMeans aplicado al dataset Breast Cancer"
      ]
    },
    {
      "cell_type": "markdown",
      "metadata": {
        "id": "a4gYQzfXQlSz"
      },
      "source": [
        "### 9. Cargamos la libreria necesaria\n",
        "\n",
        "Utilizaremos KMeans de Sklearn.\n",
        "\n",
        "Pista: https://scikit-learn.org/1.5/modules/generated/sklearn.cluster.KMeans.html"
      ]
    },
    {
      "cell_type": "code",
      "execution_count": null,
      "metadata": {
        "id": "iIV7_woFQANc"
      },
      "outputs": [],
      "source": [
        "#TU CODIGO AQUI"
      ]
    },
    {
      "cell_type": "markdown",
      "metadata": {
        "id": "alhP_TteQrr7"
      },
      "source": [
        "### 10. Cargamos el dataset Breast Cancer"
      ]
    },
    {
      "cell_type": "code",
      "execution_count": null,
      "metadata": {
        "id": "GQ3y-TxdQxDe"
      },
      "outputs": [],
      "source": [
        "# Usamos todas las características\n",
        "data = #TU CODIGO AQUI\n",
        "\n",
        "# Etiquetas de clase\n",
        "labels = #TU CODIGO AQUI"
      ]
    },
    {
      "cell_type": "markdown",
      "metadata": {
        "id": "omtGg_06QytL"
      },
      "source": [
        "### 11. Estandarizamos los datos para mejorar la convergencia de KMeans"
      ]
    },
    {
      "cell_type": "code",
      "execution_count": null,
      "metadata": {
        "id": "V3ZD6g1-Q3wM"
      },
      "outputs": [],
      "source": [
        "# Realiza el mismo proceso de escalado que hiciste en la parte A\n",
        "scaler = #TU CODIGO AQUI\n",
        "data_scaled = #TU CODIGO AQUI"
      ]
    },
    {
      "cell_type": "markdown",
      "metadata": {
        "id": "n9DMhkpKQ5GD"
      },
      "source": [
        "### 12. Aplicamos Silhouette Score para encontrar el numero K adecuado\n"
      ]
    },
    {
      "cell_type": "code",
      "execution_count": null,
      "metadata": {
        "id": "jyO9OQhERM_L"
      },
      "outputs": [],
      "source": [
        "from sklearn.metrics import #TU CODIGO AQUI\n",
        "\n",
        "silhouette_scores = []\n",
        "\n",
        "for k in K_range:\n",
        "    kmeans = KMeans(n_clusters=#TU CODIGO AQUI, random_state=42)\n",
        "    y_kmeans = kmeans.fit_predict(#TU CODIGO AQUI)\n",
        "\n",
        "    if k > 1:  # El Silhouette Score no se define para k = 1\n",
        "        silhouette_scores.append(#TU CODIGO AQUI(#TU CODIGO AQUI, #TU CODIGO AQUI))\n",
        "    else:\n",
        "        silhouette_scores.append(0)  # Ponemos 0 para k=1 por conveniencia\n"
      ]
    },
    {
      "cell_type": "code",
      "execution_count": null,
      "metadata": {
        "id": "FANSbA-XRU4P"
      },
      "outputs": [],
      "source": [
        "plt.figure(figsize=(8, 4))\n",
        "plt.plot(K_range, silhouette_scores, 'bo-')\n",
        "plt.xlabel('Number of clusters (k)')\n",
        "plt.ylabel('Silhouette Score')\n",
        "plt.title('Silhouette Score for Optimal k')\n",
        "plt.grid(True)\n",
        "plt.show()"
      ]
    },
    {
      "cell_type": "code",
      "execution_count": null,
      "metadata": {
        "id": "1Q8qYOeTRbGL"
      },
      "outputs": [],
      "source": [
        "best_k = K_range[silhouette_scores.index(max(silhouette_scores))]\n",
        "print(f\"El valor óptimo de k es: {best_k}\")"
      ]
    },
    {
      "cell_type": "markdown",
      "metadata": {
        "id": "UOXOFD-5RmSI"
      },
      "source": [
        "### 13. Aplicamos KMeans"
      ]
    },
    {
      "cell_type": "code",
      "execution_count": null,
      "metadata": {
        "id": "OC-UWRdjRpN6"
      },
      "outputs": [],
      "source": [
        "kmeans = #TU CODIGO AQUI(n_clusters=n_classes, random_state=42)\n",
        "kmeans.fit(#TU CODIGO AQUI)"
      ]
    },
    {
      "cell_type": "markdown",
      "metadata": {
        "id": "rhe6tpZcSShD"
      },
      "source": [
        "### 14. Predicciones de KMeans"
      ]
    },
    {
      "cell_type": "code",
      "execution_count": null,
      "metadata": {
        "id": "mlbm2tCcSVNP"
      },
      "outputs": [],
      "source": [
        "predictions = kmeans.predict(#TU CODIGO AQUI)"
      ]
    },
    {
      "cell_type": "markdown",
      "metadata": {
        "id": "4NcSlfjfSWeM"
      },
      "source": [
        "### 15. Evaluación"
      ]
    },
    {
      "cell_type": "code",
      "execution_count": null,
      "metadata": {
        "id": "bjVd5cDCSZOR"
      },
      "outputs": [],
      "source": [
        "accuracy = np.mean(#TU CODIGO AQUI)\n",
        "print(f\"Precisión de KMeans: {accuracy:.2f}\")"
      ]
    },
    {
      "cell_type": "markdown",
      "metadata": {
        "id": "X2CZzSxaSbRx"
      },
      "source": [
        "### 16. Visualización"
      ]
    },
    {
      "cell_type": "code",
      "execution_count": null,
      "metadata": {
        "id": "rwGgkbJuSdTE"
      },
      "outputs": [],
      "source": [
        "# Visualización (usando las dos primeras características para simplificación)\n",
        "plt.figure(figsize=(8, 6))\n",
        "colors = ['blue', 'red']\n",
        "\n",
        "# Graficamos las clases reales\n",
        "for i in range(n_classes):\n",
        "    plt.scatter(data_scaled[labels == i, 0], data_scaled[labels == i, 1], color=colors[i], label=f'Clase {i} Real')\n",
        "\n",
        "# Graficamos los clusters obtenidos por KMeans\n",
        "for i in range(n_classes):\n",
        "    plt.scatter(data_scaled[predictions == i, 0], data_scaled[predictions == i, 1], color=colors[i], marker='x', label=f'Cluster {i} Predicho')\n",
        "\n",
        "plt.title(\"KMeans - Dataset Breast Cancer\")\n",
        "plt.xlabel(cancer.feature_names[0])\n",
        "plt.ylabel(cancer.feature_names[1])\n",
        "plt.legend()\n",
        "plt.show()"
      ]
    },
    {
      "cell_type": "markdown",
      "metadata": {
        "id": "hMH51TDIQw-E"
      },
      "source": [
        "### 17. Interpretación de resultados"
      ]
    },
    {
      "cell_type": "markdown",
      "metadata": {
        "id": "MnExX1puQ5uK"
      },
      "source": [
        "Respuesta:"
      ]
    }
  ],
  "metadata": {
    "colab": {
      "provenance": []
    },
    "kernelspec": {
      "display_name": "venv",
      "language": "python",
      "name": "python3"
    },
    "language_info": {
      "codemirror_mode": {
        "name": "ipython",
        "version": 3
      },
      "file_extension": ".py",
      "mimetype": "text/x-python",
      "name": "python",
      "nbconvert_exporter": "python",
      "pygments_lexer": "ipython3",
      "version": "3.13.2"
    }
  },
  "nbformat": 4,
  "nbformat_minor": 0
}
