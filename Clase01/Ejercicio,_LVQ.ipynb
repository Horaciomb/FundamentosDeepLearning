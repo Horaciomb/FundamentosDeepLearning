{
  "cells": [
    {
      "cell_type": "markdown",
      "metadata": {
        "id": "JvT6BfwwkiBY"
      },
      "source": [
        "# LVQ"
      ]
    },
    {
      "cell_type": "markdown",
      "metadata": {
        "id": "FGEiFQTnI3qX"
      },
      "source": [
        "### 1. Generación de datos de ejemplo python\n",
        "\n",
        "* Genera dos conjuntos de datos con 2 características cada uno (X, Y en un plano 2D).\n",
        "* class1 se centra alrededor del punto [2,2] y class2 alrededor de [6,6].\n"
      ]
    },
    {
      "cell_type": "code",
      "execution_count": 1,
      "metadata": {
        "id": "TMTRx9LuI6Oy"
      },
      "outputs": [],
      "source": [
        "import numpy as np\n",
        "\n",
        "# Generar datos de ejemplo (2 clases, 2 características)\n",
        "np.random.seed(42)\n",
        "class1 = np.random.randn(50, 2) + [2, 2]  # Clase 1\n",
        "class2 = np.random.randn(50, 2) + [6, 6]  # Clase 2\n"
      ]
    },
    {
      "cell_type": "markdown",
      "metadata": {
        "id": "7FxNZ717I49R"
      },
      "source": [
        "Combina los datos de ambas clases y asigna etiquetas: 0 para clase 1 y 1 para clase 2.\n"
      ]
    },
    {
      "cell_type": "code",
      "execution_count": 2,
      "metadata": {
        "id": "PQ7ivFJLI41w"
      },
      "outputs": [],
      "source": [
        "data = np.vstack((class1, class2))\n",
        "labels = np.array([0] * 50 + [1] * 50)  # Etiquetas de clase"
      ]
    },
    {
      "cell_type": "code",
      "execution_count": 3,
      "metadata": {
        "id": "RwZFZwwPp4Pi"
      },
      "outputs": [
        {
          "data": {
            "text/plain": [
              "array([[ 2.49671415,  1.8617357 ],\n",
              "       [ 2.64768854,  3.52302986],\n",
              "       [ 1.76584663,  1.76586304],\n",
              "       [ 3.57921282,  2.76743473],\n",
              "       [ 1.53052561,  2.54256004],\n",
              "       [ 1.53658231,  1.53427025],\n",
              "       [ 2.24196227,  0.08671976],\n",
              "       [ 0.27508217,  1.43771247],\n",
              "       [ 0.98716888,  2.31424733],\n",
              "       [ 1.09197592,  0.5876963 ],\n",
              "       [ 3.46564877,  1.7742237 ],\n",
              "       [ 2.0675282 ,  0.57525181],\n",
              "       [ 1.45561728,  2.11092259],\n",
              "       [ 0.84900642,  2.37569802],\n",
              "       [ 1.39936131,  1.70830625],\n",
              "       [ 1.39829339,  3.85227818],\n",
              "       [ 1.98650278,  0.94228907],\n",
              "       [ 2.82254491,  0.77915635],\n",
              "       [ 2.2088636 ,  0.04032988],\n",
              "       [ 0.67181395,  2.19686124],\n",
              "       [ 2.73846658,  2.17136828],\n",
              "       [ 1.88435172,  1.6988963 ],\n",
              "       [ 0.52147801,  1.28015579],\n",
              "       [ 1.53936123,  3.05712223],\n",
              "       [ 2.34361829,  0.23695984],\n",
              "       [ 2.32408397,  1.61491772],\n",
              "       [ 1.323078  ,  2.61167629],\n",
              "       [ 3.03099952,  2.93128012],\n",
              "       [ 1.16078248,  1.69078762],\n",
              "       [ 2.33126343,  2.97554513],\n",
              "       [ 1.52082576,  1.81434102],\n",
              "       [ 0.89366503,  0.80379338],\n",
              "       [ 2.81252582,  3.35624003],\n",
              "       [ 1.92798988,  3.0035329 ],\n",
              "       [ 2.36163603,  1.35488025],\n",
              "       [ 2.36139561,  3.53803657],\n",
              "       [ 1.96417396,  3.56464366],\n",
              "       [-0.6197451 ,  2.8219025 ],\n",
              "       [ 2.08704707,  1.70099265],\n",
              "       [ 2.09176078,  0.01243109],\n",
              "       [ 1.78032811,  2.35711257],\n",
              "       [ 3.47789404,  1.48172978],\n",
              "       [ 1.1915064 ,  1.49824296],\n",
              "       [ 2.91540212,  2.32875111],\n",
              "       [ 1.4702398 ,  2.51326743],\n",
              "       [ 2.09707755,  2.96864499],\n",
              "       [ 1.29794691,  1.67233785],\n",
              "       [ 1.60789185,  0.53648505],\n",
              "       [ 2.29612028,  2.26105527],\n",
              "       [ 2.00511346,  1.76541287],\n",
              "       [ 4.58462926,  5.57935468],\n",
              "       [ 5.65728548,  5.19772273],\n",
              "       [ 5.83871429,  6.40405086],\n",
              "       [ 7.8861859 ,  6.17457781],\n",
              "       [ 6.25755039,  5.92555408],\n",
              "       [ 4.08122878,  5.97348612],\n",
              "       [ 6.06023021,  8.46324211],\n",
              "       [ 5.80763904,  6.30154734],\n",
              "       [ 5.96528823,  4.83132196],\n",
              "       [ 7.14282281,  6.75193303],\n",
              "       [ 6.79103195,  5.09061255],\n",
              "       [ 7.40279431,  4.59814894],\n",
              "       [ 6.58685709,  8.19045563],\n",
              "       [ 5.00946367,  5.43370227],\n",
              "       [ 6.09965137,  5.49652435],\n",
              "       [ 4.44933657,  6.06856297],\n",
              "       [ 4.93769629,  6.47359243],\n",
              "       [ 5.08057577,  7.54993441],\n",
              "       [ 5.21674671,  5.67793848],\n",
              "       [ 6.81351722,  4.76913568],\n",
              "       [ 6.22745993,  7.30714275],\n",
              "       [ 4.39251677,  6.18463386],\n",
              "       [ 6.25988279,  6.78182287],\n",
              "       [ 4.76304929,  4.67954339],\n",
              "       [ 6.52194157,  6.29698467],\n",
              "       [ 6.25049285,  6.34644821],\n",
              "       [ 5.31997528,  6.2322537 ],\n",
              "       [ 6.29307247,  5.28564858],\n",
              "       [ 7.86577451,  6.47383292],\n",
              "       [ 4.8086965 ,  6.65655361],\n",
              "       [ 5.02531833,  6.7870846 ],\n",
              "       [ 7.15859558,  5.17931768],\n",
              "       [ 6.96337613,  6.41278093],\n",
              "       [ 6.82206016,  7.89679298],\n",
              "       [ 5.75461188,  5.24626384],\n",
              "       [ 5.11048557,  5.18418972],\n",
              "       [ 5.92289829,  6.34115197],\n",
              "       [ 6.2766908 ,  6.82718325],\n",
              "       [ 6.01300189,  7.45353408],\n",
              "       [ 5.73534317,  8.72016917],\n",
              "       [ 6.62566735,  5.14284244],\n",
              "       [ 4.9291075 ,  6.48247242],\n",
              "       [ 5.77653721,  6.71400049],\n",
              "       [ 6.47323762,  5.92717109],\n",
              "       [ 5.15320628,  4.48515278],\n",
              "       [ 5.55348505,  6.85639879],\n",
              "       [ 6.21409374,  4.75426122],\n",
              "       [ 6.17318093,  6.38531738],\n",
              "       [ 5.11614256,  6.15372511],\n",
              "       [ 6.05820872,  4.8570297 ]])"
            ]
          },
          "execution_count": 3,
          "metadata": {},
          "output_type": "execute_result"
        }
      ],
      "source": [
        "data"
      ]
    },
    {
      "cell_type": "code",
      "execution_count": 4,
      "metadata": {
        "id": "UEMTZ3DvqAwd"
      },
      "outputs": [
        {
          "data": {
            "text/plain": [
              "array([0, 0, 0, 0, 0, 0, 0, 0, 0, 0, 0, 0, 0, 0, 0, 0, 0, 0, 0, 0, 0, 0,\n",
              "       0, 0, 0, 0, 0, 0, 0, 0, 0, 0, 0, 0, 0, 0, 0, 0, 0, 0, 0, 0, 0, 0,\n",
              "       0, 0, 0, 0, 0, 0, 1, 1, 1, 1, 1, 1, 1, 1, 1, 1, 1, 1, 1, 1, 1, 1,\n",
              "       1, 1, 1, 1, 1, 1, 1, 1, 1, 1, 1, 1, 1, 1, 1, 1, 1, 1, 1, 1, 1, 1,\n",
              "       1, 1, 1, 1, 1, 1, 1, 1, 1, 1, 1, 1])"
            ]
          },
          "execution_count": 4,
          "metadata": {},
          "output_type": "execute_result"
        }
      ],
      "source": [
        "labels"
      ]
    },
    {
      "cell_type": "markdown",
      "metadata": {
        "id": "JiKqVQq8I4wp"
      },
      "source": [
        "### 2. Inicialización de prototipos\n",
        "\n",
        "* Selecciona un punto aleatorio de cada clase como prototipo inicial.\n",
        "* Estos prototipos se ajustarán durante el entrenamiento."
      ]
    },
    {
      "cell_type": "code",
      "execution_count": 5,
      "metadata": {
        "id": "YNtyFniiI4r2"
      },
      "outputs": [],
      "source": [
        "# Parámetros iniciales\n",
        "n_classes = 2  # Número de clases\n",
        "learning_rate = 0.1  # Tasa de aprendizaje\n",
        "n_iterations = 100  # Iteraciones máximas\n",
        "\n",
        "# Inicialización de prototipos (un punto aleatorio por clase)\n",
        "prototypes = np.array([data[labels == i][np.random.choice(len(data[labels == i]))] for i in range(n_classes)])\n"
      ]
    },
    {
      "cell_type": "markdown",
      "metadata": {
        "id": "MDUs8ywXI4la"
      },
      "source": [
        "### 3. Función para calcular la distancia euclidiana"
      ]
    },
    {
      "cell_type": "code",
      "execution_count": 6,
      "metadata": {
        "id": "6JpsCyVkI4ci"
      },
      "outputs": [],
      "source": [
        "def euclidean_distance(a, b):\n",
        "    return np.sqrt(np.sum((a - b) ** 2))"
      ]
    },
    {
      "cell_type": "markdown",
      "metadata": {
        "id": "xUdbm1hlJk1B"
      },
      "source": [
        "### 4. Entrenamiento con LVQ"
      ]
    },
    {
      "cell_type": "code",
      "execution_count": 7,
      "metadata": {
        "id": "AxzQjlidJk6X"
      },
      "outputs": [],
      "source": [
        "for iteration in range(n_iterations):\n",
        "    for i in range(len(data)):\n",
        "        x = data[i]  # Punto de datos actual\n",
        "        y = labels[i]  # Etiqueta de clase del punto\n",
        "\n",
        "        # Calculamos la distancia entre el punto y todos los prototipos:\n",
        "        distances = np.array([euclidean_distance(x, prototype) for prototype in prototypes])\n",
        "        # El prototipo más cercano se identifica con np.argmin\n",
        "        closest_prototype_idx = np.argmin(distances)\n",
        "\n",
        "        # Actualizamos el prototipo dependiendo de si es correcto o incorrecto\n",
        "        # Si es correcto, el prototipo se mueve hacia el punto.\n",
        "        # Si es incorrecto, el prototipo se aleja del punto.\n",
        "        if closest_prototype_idx == y:  # Clase correcta\n",
        "            prototypes[closest_prototype_idx] = prototypes[closest_prototype_idx] + learning_rate * (x - prototypes[closest_prototype_idx])\n",
        "        else:  # Clase incorrecta\n",
        "            prototypes[closest_prototype_idx] -= learning_rate * (x - prototypes[closest_prototype_idx])\n"
      ]
    },
    {
      "cell_type": "markdown",
      "metadata": {
        "id": "2aUvyvRtJ5Zw"
      },
      "source": [
        "### 5. Clasificación por prototipos"
      ]
    },
    {
      "cell_type": "code",
      "execution_count": 8,
      "metadata": {
        "id": "fLTUYgDRJ5ej"
      },
      "outputs": [],
      "source": [
        "def classify(x, prototypes):\n",
        "    distances = np.array([euclidean_distance(x, prototype) for prototype in prototypes])\n",
        "    return np.argmin(distances)"
      ]
    },
    {
      "cell_type": "markdown",
      "metadata": {
        "id": "Fj_KMU9QJ5jt"
      },
      "source": [
        "### 6. Evaluación del modelo\n",
        "* Clasifica cada punto de datos usando los prototipos ajustados.\n",
        "* Calcula la precisión comparando las predicciones con las etiquetas verdaderas."
      ]
    },
    {
      "cell_type": "code",
      "execution_count": 9,
      "metadata": {
        "id": "_-Mp_VM1KQ1W"
      },
      "outputs": [
        {
          "name": "stdout",
          "output_type": "stream",
          "text": [
            "Precisión del modelo LVQ: 1.00\n"
          ]
        }
      ],
      "source": [
        "predictions = np.array([classify(x, prototypes) for x in data])\n",
        "accuracy = np.mean(predictions == labels)\n",
        "print(f\"Precisión del modelo LVQ: {accuracy:.2f}\")"
      ]
    },
    {
      "cell_type": "markdown",
      "metadata": {
        "id": "5gyZ9Z6DJ5sl"
      },
      "source": [
        "### 7. Visualización de los datos y prototipos"
      ]
    },
    {
      "cell_type": "code",
      "execution_count": 10,
      "metadata": {
        "id": "HKAV0NQUIcX8"
      },
      "outputs": [
        {
          "data": {
            "image/png": "[encoded data removed]",
            "text/plain": [
              "<Figure size 640x480 with 1 Axes>"
            ]
          },
          "metadata": {},
          "output_type": "display_data"
        }
      ],
      "source": [
        "import matplotlib.pyplot as plt\n",
        "\n",
        "plt.scatter(class1[:, 0], class1[:, 1], color='blue', label='Clase 1')\n",
        "plt.scatter(class2[:, 0], class2[:, 1], color='red', label='Clase 2')\n",
        "plt.scatter(prototypes[:, 0], prototypes[:, 1], color='green', marker='x', s=100, label='Prototipos')\n",
        "plt.legend()\n",
        "plt.title(\"Datos y prototipos de LVQ\")\n",
        "plt.show()\n"
      ]
    },
    {
      "cell_type": "markdown",
      "metadata": {
        "id": "5tuZiSCOI2UF"
      },
      "source": []
    }
  ],
  "metadata": {
    "colab": {
      "provenance": []
    },
    "kernelspec": {
      "display_name": "venv",
      "language": "python",
      "name": "python3"
    },
    "language_info": {
      "codemirror_mode": {
        "name": "ipython",
        "version": 3
      },
      "file_extension": ".py",
      "mimetype": "text/x-python",
      "name": "python",
      "nbconvert_exporter": "python",
      "pygments_lexer": "ipython3",
      "version": "3.13.2"
    }
  },
  "nbformat": 4,
  "nbformat_minor": 0
}
