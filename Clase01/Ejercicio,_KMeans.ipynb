{
  "nbformat": 4,
  "nbformat_minor": 0,
  "metadata": {
    "colab": {
      "provenance": []
    },
    "kernelspec": {
      "name": "python3",
      "display_name": "Python 3"
    },
    "language_info": {
      "name": "python"
    }
  },
  "cells": [
    {
      "cell_type": "markdown",
      "source": [
        "# K-Means"
      ],
      "metadata": {
        "id": "R0qUQuhjPfWF"
      }
    },
    {
      "cell_type": "markdown",
      "source": [
        "Importamos lo necesario"
      ],
      "metadata": {
        "id": "EUwqF3eAOJDb"
      }
    },
    {
      "cell_type": "code",
      "source": [
        "import numpy as np\n",
        "import matplotlib.pyplot as plt\n",
        "from sklearn.cluster import KMeans\n",
        "from sklearn.datasets import make_blobs\n",
        "from sklearn.metrics import silhouette_score"
      ],
      "metadata": {
        "id": "PHhI8XyCNZZj"
      },
      "execution_count": null,
      "outputs": []
    },
    {
      "cell_type": "markdown",
      "source": [
        "Creamos un toy dataset de 3 clusters"
      ],
      "metadata": {
        "id": "__UANFQDONKM"
      }
    },
    {
      "cell_type": "code",
      "source": [
        "X, y = make_blobs(n_samples=500, centers=3, random_state=100)"
      ],
      "metadata": {
        "id": "YBl3WJpbNaPK"
      },
      "execution_count": null,
      "outputs": []
    },
    {
      "cell_type": "markdown",
      "source": [
        "Añadimos ruido"
      ],
      "metadata": {
        "id": "V8hIUhNPORXN"
      }
    },
    {
      "cell_type": "code",
      "source": [
        "X = X + np.random.normal(0, 1, X.shape)"
      ],
      "metadata": {
        "id": "nMlB0xYwNb0A"
      },
      "execution_count": null,
      "outputs": []
    },
    {
      "cell_type": "markdown",
      "source": [
        "Definimos nuestro KMeans con valor de k=3"
      ],
      "metadata": {
        "id": "GJlVi35IOcbM"
      }
    },
    {
      "cell_type": "code",
      "source": [
        "k = 3\n",
        "kmeans_best = KMeans(n_clusters=k, random_state=100)\n",
        "y_kmeans = kmeans_best.fit_predict(X)"
      ],
      "metadata": {
        "id": "dWpmHoUINcnz"
      },
      "execution_count": null,
      "outputs": []
    },
    {
      "cell_type": "markdown",
      "source": [
        "Graficamos el clustering con el k número de clusters"
      ],
      "metadata": {
        "id": "40fmlnkfOWjq"
      }
    },
    {
      "cell_type": "code",
      "source": [
        "plt.figure(figsize=(8, 6))\n",
        "plt.scatter(X[:, 0], X[:, 1], c=y_kmeans, cmap='viridis', s=50, alpha=0.7)\n",
        "centers = kmeans_best.cluster_centers_\n",
        "plt.scatter(centers[:, 0], centers[:, 1], c='red', s=200, alpha=0.9, marker='x')\n",
        "plt.title(f'Clustering with K = {k}')\n",
        "plt.show()"
      ],
      "metadata": {
        "id": "OSntJ7qVOXsz"
      },
      "execution_count": null,
      "outputs": []
    },
    {
      "cell_type": "markdown",
      "source": [
        "### A) Encontrar el mejor valor de K con Elbow Method"
      ],
      "metadata": {
        "id": "hXb83h-SNhsT"
      }
    },
    {
      "cell_type": "markdown",
      "source": [
        "Calculamos la inertia.\n",
        "\n",
        "Inertia en KMeans es una medida de la suma de las distancias cuadradas entre cada punto de un cluster y su centroide más cercano."
      ],
      "metadata": {
        "id": "MdhwzS0gO1L8"
      }
    },
    {
      "cell_type": "code",
      "execution_count": null,
      "metadata": {
        "id": "Gp52FIRANIs8"
      },
      "outputs": [],
      "source": [
        "inertia = []\n",
        "K_range = range(1, 11)\n",
        "\n",
        "for k in K_range:\n",
        "    kmeans = KMeans(n_clusters=k, random_state=100)\n",
        "    kmeans.fit(X)\n",
        "    inertia.append(kmeans.inertia_)"
      ]
    },
    {
      "cell_type": "code",
      "source": [
        "inertia"
      ],
      "metadata": {
        "id": "N_varNFgKsEt"
      },
      "execution_count": null,
      "outputs": []
    },
    {
      "cell_type": "markdown",
      "source": [
        "Graficamos el Elbow Method\n"
      ],
      "metadata": {
        "id": "XVq_WSziOvmL"
      }
    },
    {
      "cell_type": "code",
      "source": [
        "plt.figure(figsize=(8, 4))\n",
        "plt.plot(K_range, inertia, 'bo-')\n",
        "plt.xlabel('Number of clusters (k)')\n",
        "plt.ylabel('Inertia')\n",
        "plt.title('Elbow Method for Optimal k')\n",
        "plt.grid(True)\n",
        "plt.show()"
      ],
      "metadata": {
        "id": "eDf5yP71Ozbb"
      },
      "execution_count": null,
      "outputs": []
    },
    {
      "cell_type": "markdown",
      "source": [
        "### B) Encontar el mejor K con Silhouette Score"
      ],
      "metadata": {
        "id": "naT9cxzrO5tl"
      }
    },
    {
      "cell_type": "markdown",
      "source": [
        "Calculamos el coeficiente de silueta para diferentes valores de k"
      ],
      "metadata": {
        "id": "EboE3_cLOz9T"
      }
    },
    {
      "cell_type": "code",
      "source": [
        "silhouette_scores = []\n",
        "\n",
        "for k in K_range:\n",
        "    kmeans = KMeans(n_clusters=k, random_state=100)\n",
        "    y_kmeans = kmeans.fit_predict(X)\n",
        "\n",
        "    if k > 1:  # El Silhouette Score no se define para k = 1\n",
        "        silhouette_scores.append(silhouette_score(X, y_kmeans))\n",
        "    else:\n",
        "        silhouette_scores.append(0)  # Ponemos 0 para k=1 por conveniencia\n"
      ],
      "metadata": {
        "id": "JisIhmTCOBf7"
      },
      "execution_count": null,
      "outputs": []
    },
    {
      "cell_type": "code",
      "source": [
        "silhouette_scores"
      ],
      "metadata": {
        "id": "_V7Rg5Rlh-tq"
      },
      "execution_count": null,
      "outputs": []
    },
    {
      "cell_type": "markdown",
      "source": [
        "Graficamos el Silhoutte Coefficient"
      ],
      "metadata": {
        "id": "IVGbQwoYPSdJ"
      }
    },
    {
      "cell_type": "code",
      "source": [
        "plt.figure(figsize=(8, 4))\n",
        "plt.plot(K_range, silhouette_scores, 'bo-')\n",
        "plt.xlabel('Number of clusters (k)')\n",
        "plt.ylabel('Silhouette Score')\n",
        "plt.title('Silhouette Score for Optimal k')\n",
        "plt.grid(True)\n",
        "plt.show()"
      ],
      "metadata": {
        "id": "sUc7CnjAPNWb"
      },
      "execution_count": null,
      "outputs": []
    },
    {
      "cell_type": "markdown",
      "source": [
        "Final"
      ],
      "metadata": {
        "id": "CiGheW0hPWY5"
      }
    },
    {
      "cell_type": "code",
      "source": [
        "# Elegimos el mejor número de clusters\n",
        "best_k = K_range[np.argmax(silhouette_scores)]\n",
        "\n",
        "kmeans_best = KMeans(n_clusters=best_k, random_state=100)\n",
        "y_kmeans = kmeans_best.fit_predict(X)\n",
        "\n",
        "# Graficamos el clustering con el mejor número de clusters\n",
        "plt.figure(figsize=(8, 6))\n",
        "plt.scatter(X[:, 0], X[:, 1], c=y_kmeans, cmap='viridis', s=50, alpha=0.7)\n",
        "centers = kmeans_best.cluster_centers_\n",
        "plt.scatter(centers[:, 0], centers[:, 1], c='red', s=200, alpha=0.9, marker='x')\n",
        "plt.title(f'Clustering with K = {best_k}')\n",
        "plt.show()\n"
      ],
      "metadata": {
        "id": "SaLKBRZLNjp1"
      },
      "execution_count": null,
      "outputs": []
    },
    {
      "cell_type": "code",
      "source": [],
      "metadata": {
        "id": "-6qm-XyKLIuL"
      },
      "execution_count": null,
      "outputs": []
    }
  ]
}